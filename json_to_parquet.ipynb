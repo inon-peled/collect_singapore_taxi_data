{
 "cells": [
  {
   "cell_type": "code",
   "execution_count": 1,
   "metadata": {},
   "outputs": [],
   "source": [
    "from multiprocessing import Pool\n",
    "import os\n",
    "import json\n",
    "\n",
    "import numpy as np\n",
    "import pandas as pd"
   ]
  },
  {
   "cell_type": "code",
   "execution_count": 2,
   "metadata": {},
   "outputs": [],
   "source": [
    "def _get_timestamp(json_contents):\n",
    "    return pd.to_datetime(json_contents['features'][0]['properties']['timestamp'])"
   ]
  },
  {
   "cell_type": "code",
   "execution_count": 3,
   "metadata": {},
   "outputs": [],
   "source": [
    "def _get_coordinates(json_contents):\n",
    "    return np.array(json_contents['features'][0]['geometry']['coordinates'])"
   ]
  },
  {
   "cell_type": "code",
   "execution_count": 4,
   "metadata": {},
   "outputs": [],
   "source": [
    "def _process_one_json(path):\n",
    "#     print('DEBUG', path)\n",
    "    def _extract_timestamp_and_coordinates():\n",
    "        try:\n",
    "            json_contents = json.load(open(path))\n",
    "            return _get_timestamp(json_contents), _get_coordinates(json_contents)\n",
    "        except KeyError:\n",
    "            return None, []\n",
    "        except Exception as e:\n",
    "            print('Error for path:', path)\n",
    "            raise e\n",
    "        \n",
    "    timestamp, coordinates = _extract_timestamp_and_coordinates()\n",
    "    return (timestamp, pd.DataFrame(columns=['lon', 'lat', 'ts']).set_index('ts') \\\n",
    "                if len(coordinates) == 0 else \\\n",
    "                pd.DataFrame(data=coordinates, columns=['lon', 'lat'])\\\n",
    "                    .assign(ts=timestamp)\\\n",
    "                    .set_index('ts')\n",
    "           )"
   ]
  },
  {
   "cell_type": "code",
   "execution_count": 5,
   "metadata": {},
   "outputs": [],
   "source": [
    "def _persist_parquet_path(dirpath_persist_parquet, date):\n",
    "    return os.path.join(dirpath_persist_parquet, date.strftime('sg_taxi_%Y%m%d.parquet'))"
   ]
  },
  {
   "cell_type": "code",
   "execution_count": 6,
   "metadata": {},
   "outputs": [],
   "source": [
    "def _process_one_date(date, dirpath_json, dirpath_persist_parquet):\n",
    "    pd.concat(\n",
    "        filter(\n",
    "            lambda v: len(v) > 0,\n",
    "            dict(\n",
    "                map(_process_one_json, \n",
    "                    (os.path.join(dirpath_json, 'sg_taxi_%s.json' % dt) \n",
    "                     for dt in pd.date_range(start=date, periods=(24 * 60), freq='1T').strftime('%Y%m%dT%H%M'))\n",
    "                   )).values()\n",
    "        )\n",
    "    )\\\n",
    "    .sort_index()\\\n",
    "    .to_parquet(\n",
    "        _persist_parquet_path(dirpath_persist_parquet, date),\n",
    "        allow_truncated_timestamps=True,\n",
    "        compression='gzip')"
   ]
  },
  {
   "cell_type": "code",
   "execution_count": 7,
   "metadata": {},
   "outputs": [],
   "source": [
    "def process_multiple_dates(dates, dirpath_json, dirpath_persist_parquet):\n",
    "    if not os.path.exists(dirpath_persist_parquet):\n",
    "        os.makedirs(dirpath_persist_parquet)\n",
    "    filtered_dates = list(filter(\n",
    "        lambda dt: not os.path.exists(_persist_parquet_path(dirpath_persist_parquet, dt)), \n",
    "        dates))\n",
    "    print('About to process %d dates: %s' % (len(filtered_dates), filtered_dates))\n",
    "    with Pool(maxtasksperchild=1) as pool:\n",
    "        pool.starmap(\n",
    "            _process_one_date, \n",
    "            ((date, dirpath_json, dirpath_persist_parquet) \n",
    "             for date in filtered_dates))"
   ]
  },
  {
   "cell_type": "code",
   "execution_count": 8,
   "metadata": {},
   "outputs": [],
   "source": [
    "# process_multiple_dates(\n",
    "#     dirpath_persist_parquet='./parquet/2019/', \n",
    "#     dirpath_json='./2019/', \n",
    "#     dates=pd.date_range(start='20190101', end='20191231', freq='1D'))"
   ]
  },
  {
   "cell_type": "code",
   "execution_count": 9,
   "metadata": {},
   "outputs": [],
   "source": [
    "# process_multiple_dates(\n",
    "#     dirpath_persist_parquet='./parquet/2018/', \n",
    "#     dirpath_json='./2018/', \n",
    "#     dates=pd.date_range(start='20180101', end='20181231', freq='1D'))"
   ]
  },
  {
   "cell_type": "code",
   "execution_count": 10,
   "metadata": {},
   "outputs": [],
   "source": [
    "# process_multiple_dates(\n",
    "#     dirpath_persist_parquet='./parquet/2017/', \n",
    "#     dirpath_json='./2017/', \n",
    "#     dates=pd.date_range(start='20170101', end='20171231', freq='1D'))"
   ]
  },
  {
   "cell_type": "code",
   "execution_count": 11,
   "metadata": {},
   "outputs": [],
   "source": [
    "# process_multiple_dates(\n",
    "#     dirpath_persist_parquet='./parquet/2020/', \n",
    "#     dirpath_json='./2020/', \n",
    "#     dates=pd.date_range(start='20200101', end='20201023', freq='1D'))"
   ]
  },
  {
   "cell_type": "code",
   "execution_count": 12,
   "metadata": {},
   "outputs": [],
   "source": [
    "# process_multiple_dates(\n",
    "#     dirpath_persist_parquet='./parquet/2016/', \n",
    "#     dirpath_json='./2016/', \n",
    "#     dates=pd.date_range(start='20160113', end='20161231', freq='1D'))"
   ]
  }
 ],
 "metadata": {
  "kernelspec": {
   "display_name": "Python 3",
   "language": "python",
   "name": "python3"
  },
  "language_info": {
   "codemirror_mode": {
    "name": "ipython",
    "version": 3
   },
   "file_extension": ".py",
   "mimetype": "text/x-python",
   "name": "python",
   "nbconvert_exporter": "python",
   "pygments_lexer": "ipython3",
   "version": "3.6.8"
  }
 },
 "nbformat": 4,
 "nbformat_minor": 2
}

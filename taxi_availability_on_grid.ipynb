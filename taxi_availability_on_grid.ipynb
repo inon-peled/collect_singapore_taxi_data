{
 "cells": [
  {
   "cell_type": "code",
   "execution_count": 2,
   "metadata": {},
   "outputs": [],
   "source": [
    "import os\n",
    "from functools import reduce \n",
    "from glob import glob\n",
    "from multiprocessing import Pool\n",
    "\n",
    "from matplotlib import pyplot as plt\n",
    "from scipy.sparse import bsr_matrix\n",
    "from tqdm.notebook import tqdm\n",
    "import numpy as np\n",
    "import pandas as pd\n",
    "\n",
    "%matplotlib inline"
   ]
  },
  {
   "cell_type": "markdown",
   "metadata": {},
   "source": [
    "# Grid in GPS Coordinates"
   ]
  },
  {
   "cell_type": "code",
   "execution_count": 3,
   "metadata": {},
   "outputs": [
    {
     "data": {
      "text/html": [
       "<div>\n",
       "<style scoped>\n",
       "    .dataframe tbody tr th:only-of-type {\n",
       "        vertical-align: middle;\n",
       "    }\n",
       "\n",
       "    .dataframe tbody tr th {\n",
       "        vertical-align: top;\n",
       "    }\n",
       "\n",
       "    .dataframe thead th {\n",
       "        text-align: right;\n",
       "    }\n",
       "</style>\n",
       "<table border=\"1\" class=\"dataframe\">\n",
       "  <thead>\n",
       "    <tr style=\"text-align: right;\">\n",
       "      <th></th>\n",
       "      <th>lon</th>\n",
       "      <th>lat</th>\n",
       "    </tr>\n",
       "    <tr>\n",
       "      <th>ts</th>\n",
       "      <th></th>\n",
       "      <th></th>\n",
       "    </tr>\n",
       "  </thead>\n",
       "  <tbody>\n",
       "    <tr>\n",
       "      <td>2020-03-23 23:59:53+08:00</td>\n",
       "      <td>103.62149</td>\n",
       "      <td>1.27630</td>\n",
       "    </tr>\n",
       "    <tr>\n",
       "      <td>2020-03-23 23:59:53+08:00</td>\n",
       "      <td>103.62701</td>\n",
       "      <td>1.30270</td>\n",
       "    </tr>\n",
       "    <tr>\n",
       "      <td>2020-03-23 23:59:53+08:00</td>\n",
       "      <td>103.62800</td>\n",
       "      <td>1.29908</td>\n",
       "    </tr>\n",
       "    <tr>\n",
       "      <td>2020-03-23 23:59:53+08:00</td>\n",
       "      <td>103.63140</td>\n",
       "      <td>1.31135</td>\n",
       "    </tr>\n",
       "    <tr>\n",
       "      <td>2020-03-23 23:59:53+08:00</td>\n",
       "      <td>103.63279</td>\n",
       "      <td>1.32907</td>\n",
       "    </tr>\n",
       "  </tbody>\n",
       "</table>\n",
       "</div>"
      ],
      "text/plain": [
       "                                 lon      lat\n",
       "ts                                           \n",
       "2020-03-23 23:59:53+08:00  103.62149  1.27630\n",
       "2020-03-23 23:59:53+08:00  103.62701  1.30270\n",
       "2020-03-23 23:59:53+08:00  103.62800  1.29908\n",
       "2020-03-23 23:59:53+08:00  103.63140  1.31135\n",
       "2020-03-23 23:59:53+08:00  103.63279  1.32907"
      ]
     },
     "execution_count": 3,
     "metadata": {},
     "output_type": "execute_result"
    }
   ],
   "source": [
    "pd.read_parquet('./parquet/2020/sg_taxi_20200324.parquet').head()"
   ]
  },
  {
   "cell_type": "code",
   "execution_count": 4,
   "metadata": {},
   "outputs": [],
   "source": [
    "def parquet_to_matrix(parquet_path, decimal_precision, persist_dir):\n",
    "    pd\\\n",
    "        .read_parquet(parquet_path)\\\n",
    "        .assign(grid_lon=lambda df: df.lon.round(decimal_precision), \n",
    "                grid_lat=lambda df: df.lat.round(decimal_precision))\\\n",
    "        .groupby(['grid_lat', 'grid_lon'])\\\n",
    "        .size()\\\n",
    "        .rename('num')\\\n",
    "        .reset_index()\\\n",
    "        .to_parquet(os.path.join(persist_dir, 'grid_%s' % os.path.basename(parquet_path)), compression='gzip')\n",
    "\n",
    "    \n",
    "parquet_to_matrix(persist_dir='./grid',\n",
    "                  parquet_path='./parquet/2018/sg_taxi_20180319.parquet', \n",
    "                  decimal_precision=4)"
   ]
  },
  {
   "cell_type": "code",
   "execution_count": 5,
   "metadata": {},
   "outputs": [
    {
     "data": {
      "text/html": [
       "<div>\n",
       "<style scoped>\n",
       "    .dataframe tbody tr th:only-of-type {\n",
       "        vertical-align: middle;\n",
       "    }\n",
       "\n",
       "    .dataframe tbody tr th {\n",
       "        vertical-align: top;\n",
       "    }\n",
       "\n",
       "    .dataframe thead th {\n",
       "        text-align: right;\n",
       "    }\n",
       "</style>\n",
       "<table border=\"1\" class=\"dataframe\">\n",
       "  <thead>\n",
       "    <tr style=\"text-align: right;\">\n",
       "      <th></th>\n",
       "      <th>grid_lat</th>\n",
       "      <th>grid_lon</th>\n",
       "      <th>num</th>\n",
       "    </tr>\n",
       "  </thead>\n",
       "  <tbody>\n",
       "    <tr>\n",
       "      <td>0</td>\n",
       "      <td>1.2336</td>\n",
       "      <td>103.6756</td>\n",
       "      <td>1</td>\n",
       "    </tr>\n",
       "    <tr>\n",
       "      <td>1</td>\n",
       "      <td>1.2337</td>\n",
       "      <td>103.6760</td>\n",
       "      <td>1</td>\n",
       "    </tr>\n",
       "    <tr>\n",
       "      <td>2</td>\n",
       "      <td>1.2338</td>\n",
       "      <td>103.6757</td>\n",
       "      <td>7</td>\n",
       "    </tr>\n",
       "    <tr>\n",
       "      <td>3</td>\n",
       "      <td>1.2338</td>\n",
       "      <td>103.6758</td>\n",
       "      <td>2</td>\n",
       "    </tr>\n",
       "    <tr>\n",
       "      <td>4</td>\n",
       "      <td>1.2339</td>\n",
       "      <td>103.6758</td>\n",
       "      <td>2</td>\n",
       "    </tr>\n",
       "    <tr>\n",
       "      <td>...</td>\n",
       "      <td>...</td>\n",
       "      <td>...</td>\n",
       "      <td>...</td>\n",
       "    </tr>\n",
       "    <tr>\n",
       "      <td>722216</td>\n",
       "      <td>1.4694</td>\n",
       "      <td>103.8116</td>\n",
       "      <td>1</td>\n",
       "    </tr>\n",
       "    <tr>\n",
       "      <td>722217</td>\n",
       "      <td>1.4694</td>\n",
       "      <td>103.8118</td>\n",
       "      <td>2</td>\n",
       "    </tr>\n",
       "    <tr>\n",
       "      <td>722218</td>\n",
       "      <td>1.4695</td>\n",
       "      <td>103.8142</td>\n",
       "      <td>1</td>\n",
       "    </tr>\n",
       "    <tr>\n",
       "      <td>722219</td>\n",
       "      <td>1.4697</td>\n",
       "      <td>103.8141</td>\n",
       "      <td>1</td>\n",
       "    </tr>\n",
       "    <tr>\n",
       "      <td>722220</td>\n",
       "      <td>1.4699</td>\n",
       "      <td>103.8150</td>\n",
       "      <td>1</td>\n",
       "    </tr>\n",
       "  </tbody>\n",
       "</table>\n",
       "<p>722221 rows × 3 columns</p>\n",
       "</div>"
      ],
      "text/plain": [
       "        grid_lat  grid_lon  num\n",
       "0         1.2336  103.6756    1\n",
       "1         1.2337  103.6760    1\n",
       "2         1.2338  103.6757    7\n",
       "3         1.2338  103.6758    2\n",
       "4         1.2339  103.6758    2\n",
       "...          ...       ...  ...\n",
       "722216    1.4694  103.8116    1\n",
       "722217    1.4694  103.8118    2\n",
       "722218    1.4695  103.8142    1\n",
       "722219    1.4697  103.8141    1\n",
       "722220    1.4699  103.8150    1\n",
       "\n",
       "[722221 rows x 3 columns]"
      ]
     },
     "execution_count": 5,
     "metadata": {},
     "output_type": "execute_result"
    }
   ],
   "source": [
    "pd.read_parquet('./grid/grid_sg_taxi_20180319.parquet')"
   ]
  },
  {
   "cell_type": "code",
   "execution_count": 6,
   "metadata": {},
   "outputs": [],
   "source": [
    "def _mp(args):\n",
    "    try:\n",
    "        parquet_path, decimal_precision, persist_dir = args\n",
    "        parquet_to_matrix(persist_dir=persist_dir, parquet_path=parquet_path, decimal_precision=decimal_precision)\n",
    "    except Exception as e:\n",
    "        print(parquet_path, e)"
   ]
  },
  {
   "cell_type": "code",
   "execution_count": 7,
   "metadata": {},
   "outputs": [],
   "source": [
    "def persist_multiple_parquets_to_matrix(parquet_paths, decimal_precision, dir_persist):\n",
    "    filtered_paths = list(filter(lambda path: not os.path.exists(os.path.join(dir_persist, 'grid_%s' % os.path.basename(path))), parquet_paths))\n",
    "    with Pool(maxtasksperchild=1) as pool:\n",
    "        for none_res in tqdm(pool.imap_unordered(\n",
    "                      _mp, \n",
    "                      [(path, decimal_precision, dir_persist) for path in filtered_paths]\n",
    "                  ), total=len(filtered_paths)):\n",
    "            pass"
   ]
  },
  {
   "cell_type": "code",
   "execution_count": 8,
   "metadata": {},
   "outputs": [],
   "source": [
    "# persist_multiple_parquets_to_matrix(\n",
    "#     dir_persist='./grid',\n",
    "#     parquet_paths=glob('./parquet/*/*.parquet'), \n",
    "#     decimal_precision=4)"
   ]
  },
  {
   "cell_type": "code",
   "execution_count": 9,
   "metadata": {},
   "outputs": [],
   "source": [
    "def sum_up_grid(grid_dir):\n",
    "    tasks =  glob(os.path.join(grid_dir, '*'))\n",
    "    return reduce(lambda ser1, ser2: ser1.add(ser2, fill_value=0), \n",
    "                  tqdm(\n",
    "                      (pd.read_parquet(f).set_index(['grid_lat', 'grid_lon']).squeeze() \n",
    "                      for f in tasks), \n",
    "                  total=len(tasks)))\n",
    "\n",
    "# sum_up_grid(grid_dir='./grid').to_csv('./df_grid.csv')"
   ]
  },
  {
   "cell_type": "code",
   "execution_count": 10,
   "metadata": {},
   "outputs": [
    {
     "name": "stdout",
     "output_type": "stream",
     "text": [
      "Total observations: 1.20339e+10\n"
     ]
    },
    {
     "data": {
      "text/html": [
       "<div>\n",
       "<style scoped>\n",
       "    .dataframe tbody tr th:only-of-type {\n",
       "        vertical-align: middle;\n",
       "    }\n",
       "\n",
       "    .dataframe tbody tr th {\n",
       "        vertical-align: top;\n",
       "    }\n",
       "\n",
       "    .dataframe thead th {\n",
       "        text-align: right;\n",
       "    }\n",
       "</style>\n",
       "<table border=\"1\" class=\"dataframe\">\n",
       "  <thead>\n",
       "    <tr style=\"text-align: right;\">\n",
       "      <th></th>\n",
       "      <th>grid_lat</th>\n",
       "      <th>grid_lon</th>\n",
       "      <th>num</th>\n",
       "    </tr>\n",
       "  </thead>\n",
       "  <tbody>\n",
       "    <tr>\n",
       "      <td>count</td>\n",
       "      <td>2.672436e+06</td>\n",
       "      <td>2.672436e+06</td>\n",
       "      <td>2.672436e+06</td>\n",
       "    </tr>\n",
       "    <tr>\n",
       "      <td>mean</td>\n",
       "      <td>1.348823e+00</td>\n",
       "      <td>1.038235e+02</td>\n",
       "      <td>4.502961e+03</td>\n",
       "    </tr>\n",
       "    <tr>\n",
       "      <td>std</td>\n",
       "      <td>4.589089e-02</td>\n",
       "      <td>8.331047e-02</td>\n",
       "      <td>2.467958e+04</td>\n",
       "    </tr>\n",
       "    <tr>\n",
       "      <td>min</td>\n",
       "      <td>1.231600e+00</td>\n",
       "      <td>1.036132e+02</td>\n",
       "      <td>1.000000e+00</td>\n",
       "    </tr>\n",
       "    <tr>\n",
       "      <td>25%</td>\n",
       "      <td>1.315900e+00</td>\n",
       "      <td>1.037659e+02</td>\n",
       "      <td>1.700000e+01</td>\n",
       "    </tr>\n",
       "    <tr>\n",
       "      <td>50%</td>\n",
       "      <td>1.341400e+00</td>\n",
       "      <td>1.038302e+02</td>\n",
       "      <td>2.390000e+02</td>\n",
       "    </tr>\n",
       "    <tr>\n",
       "      <td>75%</td>\n",
       "      <td>1.378100e+00</td>\n",
       "      <td>1.038834e+02</td>\n",
       "      <td>2.414000e+03</td>\n",
       "    </tr>\n",
       "    <tr>\n",
       "      <td>max</td>\n",
       "      <td>1.470300e+00</td>\n",
       "      <td>1.040218e+02</td>\n",
       "      <td>9.506609e+06</td>\n",
       "    </tr>\n",
       "  </tbody>\n",
       "</table>\n",
       "</div>"
      ],
      "text/plain": [
       "           grid_lat      grid_lon           num\n",
       "count  2.672436e+06  2.672436e+06  2.672436e+06\n",
       "mean   1.348823e+00  1.038235e+02  4.502961e+03\n",
       "std    4.589089e-02  8.331047e-02  2.467958e+04\n",
       "min    1.231600e+00  1.036132e+02  1.000000e+00\n",
       "25%    1.315900e+00  1.037659e+02  1.700000e+01\n",
       "50%    1.341400e+00  1.038302e+02  2.390000e+02\n",
       "75%    1.378100e+00  1.038834e+02  2.414000e+03\n",
       "max    1.470300e+00  1.040218e+02  9.506609e+06"
      ]
     },
     "execution_count": 10,
     "metadata": {},
     "output_type": "execute_result"
    }
   ],
   "source": [
    "df_grid = pd.read_csv('./df_grid.csv')[lambda df: (df.grid_lat.between(1, 2)) & (df.grid_lon.between(100, 105))]\n",
    "print('Total observations: %g' % df_grid.num.sum())\n",
    "df_grid.describe()"
   ]
  },
  {
   "cell_type": "code",
   "execution_count": 11,
   "metadata": {},
   "outputs": [
    {
     "data": {
      "text/plain": [
       "{'lat_min': 1.2316,\n",
       " 'lon_min': 103.6132,\n",
       " 'lat_max': 1.4703,\n",
       " 'lon_max': 104.0218}"
      ]
     },
     "execution_count": 11,
     "metadata": {},
     "output_type": "execute_result"
    }
   ],
   "source": [
    "bbox = {'lat_min': df_grid.grid_lat.min(), \n",
    "        'lon_min': df_grid.grid_lon.min(), \n",
    "        'lat_max': df_grid.grid_lat.max(), \n",
    "        'lon_max': df_grid.grid_lon.max()}\n",
    "bbox"
   ]
  },
  {
   "cell_type": "code",
   "execution_count": 40,
   "metadata": {},
   "outputs": [
    {
     "data": {
      "text/plain": [
       "<matplotlib.axes._subplots.AxesSubplot at 0x7f35c4695320>"
      ]
     },
     "execution_count": 40,
     "metadata": {},
     "output_type": "execute_result"
    },
    {
     "data": {
      "image/png": "[encoded data removed]",
      "text/plain": [
       "<Figure size 1152x432 with 1 Axes>"
      ]
     },
     "metadata": {
      "needs_background": "light"
     },
     "output_type": "display_data"
    }
   ],
   "source": [
    "import seaborn as sns\n",
    "\n",
    "def plot(df_grid):\n",
    "    fig, ax = plt.subplots(figsize=(16, 6))\n",
    "    return sns.kdeplot(\n",
    "        bw_adjust=0.05,\n",
    "        ax=ax, \n",
    "        data=df_grid[lambda df: (df.num / df.num.max()) > 1E-3], \n",
    "        y='grid_lat', \n",
    "        x='grid_lon', \n",
    "        weights='num', \n",
    "        fill=True)\n",
    "\n",
    "plot(df_grid=df_grid)"
   ]
  }
 ],
 "metadata": {
  "kernelspec": {
   "display_name": "Python 3",
   "language": "python",
   "name": "python3"
  },
  "language_info": {
   "codemirror_mode": {
    "name": "ipython",
    "version": 3
   },
   "file_extension": ".py",
   "mimetype": "text/x-python",
   "name": "python",
   "nbconvert_exporter": "python",
   "pygments_lexer": "ipython3",
   "version": "3.6.8"
  }
 },
 "nbformat": 4,
 "nbformat_minor": 2
}

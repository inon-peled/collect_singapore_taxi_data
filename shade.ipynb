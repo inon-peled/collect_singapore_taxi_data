{
 "cells": [
  {
   "cell_type": "code",
   "execution_count": 1,
   "metadata": {},
   "outputs": [],
   "source": [
    "from matplotlib import cm\n",
    "from colorcet import fire\n",
    "import dask.dataframe as dd\n",
    "import datashader as ds\n",
    "import pandas as pd\n",
    "import datashader.transfer_functions as tf\n",
    "\n",
    "from functools import partial\n",
    "from datashader.utils import export_image\n",
    "from datashader.colors import colormap_select, Greys9\n",
    "from IPython.core.display import HTML, display\n",
    "from matplotlib import pyplot as plt\n",
    "from tqdm.notebook import tqdm\n",
    "from glob import glob\n",
    "from multiprocessing import Pool\n",
    "import os"
   ]
  },
  {
   "cell_type": "code",
   "execution_count": 2,
   "metadata": {},
   "outputs": [],
   "source": [
    "distributed_df = dd.read_parquet('no_ts/', engine='pyarrow', columns=['lon', 'lat'])"
   ]
  },
  {
   "cell_type": "code",
   "execution_count": 3,
   "metadata": {},
   "outputs": [],
   "source": [
    "dd_reasonable_lon_lat = distributed_df[\n",
    "    (distributed_df.lon >= 100) & \n",
    "    (distributed_df.lon <= 105) & \n",
    "    (distributed_df.lat >= 1.1) & \n",
    "    (distributed_df.lat <= 1.5)]"
   ]
  },
  {
   "cell_type": "code",
   "execution_count": 4,
   "metadata": {},
   "outputs": [
    {
     "name": "stderr",
     "output_type": "stream",
     "text": [
      "/home/inon/venv/lib/python3.6/site-packages/matplotlib/colors.py:527: RuntimeWarning: invalid value encountered in less\n",
      "  xa[xa < 0] = -1\n"
     ]
    }
   ],
   "source": [
    "def to_img(df):\n",
    "    return tf.shade(ds.Canvas(plot_width=1920, plot_height=1080).points(df, 'lon', 'lat'), \n",
    "                    cmap=plt.get_cmap('gist_heat'))\n",
    "\n",
    "img = to_img(dd_reasonable_lon_lat)"
   ]
  },
  {
   "cell_type": "code",
   "execution_count": 5,
   "metadata": {},
   "outputs": [],
   "source": [
    "partial(export_image, background='black', export_path='export')(img, 'allavail');"
   ]
  }
 ],
 "metadata": {
  "kernelspec": {
   "display_name": "Python 3",
   "language": "python",
   "name": "python3"
  },
  "language_info": {
   "codemirror_mode": {
    "name": "ipython",
    "version": 3
   },
   "file_extension": ".py",
   "mimetype": "text/x-python",
   "name": "python",
   "nbconvert_exporter": "python",
   "pygments_lexer": "ipython3",
   "version": "3.6.8"
  }
 },
 "nbformat": 4,
 "nbformat_minor": 2
}

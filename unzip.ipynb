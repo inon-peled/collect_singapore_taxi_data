{
 "cells": [
  {
   "cell_type": "code",
   "execution_count": 1,
   "metadata": {},
   "outputs": [],
   "source": [
    "import gzip\n",
    "from multiprocessing import Pool\n",
    "from glob import glob\n",
    "import os\n",
    "from tqdm.notebook import tqdm"
   ]
  },
  {
   "cell_type": "code",
   "execution_count": 2,
   "metadata": {},
   "outputs": [],
   "source": [
    "def _mp(src):\n",
    "    try:\n",
    "        with gzip.open(src, 'rb') as f_in, open(os.path.join('unzip', os.path.basename(src)[:-3]), 'wb') as f_out:\n",
    "            f_out.write(f_in.read())\n",
    "    except Exception as e:\n",
    "        with open(os.path.join('unzip_errors', 'err_' + os.path.basename(src).replace('.gz', '.err')), 'w') as f_err:\n",
    "            f_err.write(str(e))"
   ]
  },
  {
   "cell_type": "code",
   "execution_count": 3,
   "metadata": {},
   "outputs": [],
   "source": [
    "def unzip(processes):\n",
    "    with Pool(processes=processes, maxtasksperchild=1) as pool:\n",
    "        for none_res in tqdm(pool.imap_unordered(_mp, glob('./2016/*.gz'))):\n",
    "            pass"
   ]
  },
  {
   "cell_type": "code",
   "execution_count": null,
   "metadata": {},
   "outputs": [
    {
     "data": {
      "application/vnd.jupyter.widget-view+json": {
       "model_id": "629ae494abdc4a83803f16f01e889aa8",
       "version_major": 2,
       "version_minor": 0
      },
      "text/plain": [
       "HBox(children=(FloatProgress(value=1.0, bar_style='info', max=1.0), HTML(value='')))"
      ]
     },
     "metadata": {},
     "output_type": "display_data"
    }
   ],
   "source": [
    "unzip(processes=512)"
   ]
  }
 ],
 "metadata": {
  "kernelspec": {
   "display_name": "Python 3",
   "language": "python",
   "name": "python3"
  },
  "language_info": {
   "codemirror_mode": {
    "name": "ipython",
    "version": 3
   },
   "file_extension": ".py",
   "mimetype": "text/x-python",
   "name": "python",
   "nbconvert_exporter": "python",
   "pygments_lexer": "ipython3",
   "version": "3.6.8"
  }
 },
 "nbformat": 4,
 "nbformat_minor": 2
}
